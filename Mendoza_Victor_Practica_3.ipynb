{
  "nbformat": 4,
  "nbformat_minor": 0,
  "metadata": {
    "colab": {
      "provenance": []
    },
    "kernelspec": {
      "name": "python3",
      "display_name": "Python 3"
    },
    "language_info": {
      "name": "python"
    }
  },
  "cells": [
    {
      "cell_type": "markdown",
      "source": [
        "##Incertidumbre y Probabilidad"
      ],
      "metadata": {
        "id": "ixJPLyq8vWIy"
      }
    },
    {
      "cell_type": "code",
      "execution_count": 1,
      "metadata": {
        "id": "Deq_bODGfgoX",
        "colab": {
          "base_uri": "https://localhost:8080/"
        },
        "outputId": "3754b80e-1da4-424a-9034-17e997e60b1d"
      },
      "outputs": [
        {
          "output_type": "stream",
          "name": "stdout",
          "text": [
            "Tiradas: [3, 3, 5, 1, 4, 4, 6, 6, 2, 3]\n",
            "Veces que salió >4: 3\n",
            "Probabilidad estimada: 0.30\n"
          ]
        }
      ],
      "source": [
        "import random\n",
        "# Simular 10 tiradas de un dado\n",
        "tiradas = [random.randint(1, 6) for _ in range(10)]\n",
        "print(\"Tiradas:\", tiradas)\n",
        "# Calcular probabilidad de obtener un número mayor a 4\n",
        "exitos = sum(1 for t in tiradas if t > 4)\n",
        "probabilidad = exitos / len(tiradas)\n",
        "print(f\"Veces que salió >4: {exitos}\")\n",
        "print(f\"Probabilidad estimada: {probabilidad:.2f}\")\n"
      ]
    },
    {
      "cell_type": "markdown",
      "source": [
        "##Funciones de Pertenencia"
      ],
      "metadata": {
        "id": "tLeDzBSJvcBC"
      }
    },
    {
      "cell_type": "code",
      "source": [
        "def triangular(x, a, b, c):\n",
        "    \"\"\"\n",
        "Función de pertenencia triangular.\n",
        "a: inicio de la base\n",
        "b: punto máximo (grado 1)\n",
        "c: fin de la base\n",
        "\"\"\"\n",
        "    if x <= a or x >= c:\n",
        "        return 0\n",
        "    elif a < x < b:\n",
        "        return (x - a) / (b - a)\n",
        "    elif b <= x < c:\n",
        "        return (c - x) / (c - b)\n",
        "    else:\n",
        "        return 0\n",
        "# Ejemplo: temperatura cálida en [15, 25, 35]\n",
        "temperatura = 25\n",
        "grado = triangular(temperatura, 15, 25, 35)\n",
        "print(f\"Grado de pertenencia de {temperatura}°C a 'cálida': {grado:.2f}\")"
      ],
      "metadata": {
        "colab": {
          "base_uri": "https://localhost:8080/"
        },
        "id": "szJ4XdCzve99",
        "outputId": "f81d8688-a5ba-4e80-a781-1dbf4fc05db1"
      },
      "execution_count": 12,
      "outputs": [
        {
          "output_type": "stream",
          "name": "stdout",
          "text": [
            "Grado de pertenencia de 25°C a 'cálida': 1.00\n"
          ]
        }
      ]
    },
    {
      "cell_type": "markdown",
      "source": [
        "##Defuzificación por Método del Centroide"
      ],
      "metadata": {
        "id": "DQSiqZy0vmg5"
      }
    },
    {
      "cell_type": "code",
      "source": [
        "# Valores y sus grados de pertenencia\n",
        "valores = [10, 20, 30]\n",
        "grados = [0.2, 0.5, 0.8]\n",
        "# Fórmula del centroide: (Σ µ(x) * x) / (Σ µ(x))\n",
        "numerador = sum(mu * x for mu, x in zip(grados, valores))\n",
        "denominador = sum(grados)\n",
        "centroide = numerador / denominador\n",
        "print(\"Valores:\", valores)\n",
        "print(\"Grados de pertenencia:\", grados)\n",
        "print(f\"Valor defuzificado (centroide): {centroide:.2f}\")"
      ],
      "metadata": {
        "colab": {
          "base_uri": "https://localhost:8080/"
        },
        "id": "mH9YGdFuvngB",
        "outputId": "937355cf-19cf-4982-bc00-dd87e2fb122d"
      },
      "execution_count": 13,
      "outputs": [
        {
          "output_type": "stream",
          "name": "stdout",
          "text": [
            "Valores: [10, 20, 30]\n",
            "Grados de pertenencia: [0.2, 0.5, 0.8]\n",
            "Valor defuzificado (centroide): 24.00\n"
          ]
        }
      ]
    }
  ]
}